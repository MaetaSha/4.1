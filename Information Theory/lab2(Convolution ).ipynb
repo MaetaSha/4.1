{
 "cells": [
  {
   "cell_type": "code",
   "execution_count": 2,
   "id": "d1da1255",
   "metadata": {},
   "outputs": [
    {
     "name": "stdout",
     "output_type": "stream",
     "text": [
      "Enter message: 1 0 1 0 1\n",
      "Constraints: 4\n",
      "Number of output(generator): 2\n",
      "Enter bits for generator 0: 1 1 1 1\n",
      "Enter bits for generator 1: 1 1 0 1\n",
      "Encoded Message [1, 1, 1, 1, 0, 1, 0, 0, 0, 1, 0, 0, 1, 0, 1, 1]\n"
     ]
    }
   ],
   "source": [
    "import numpy as np \n",
    " \n",
    " \n",
    "def encode(msg, K, n): \n",
    "    g, v = [], [] \n",
    "    for i in range(n): \n",
    "        sub_g = list(map(int, input(f'Enter bits for generator {i}: ').split())) \n",
    "        if len(sub_g) != K: \n",
    "            raise ValueError(f'You entered {len(sub_g)} bits.\\n need to enter {K} bits') \n",
    "        g.append(sub_g) \n",
    "    for i in range(n): \n",
    "        res = list(np.poly1d(g[i]) * np.poly1d(msg)) \n",
    "        v.append(res) \n",
    " \n",
    "    listMax = max(len(l) for l in v) \n",
    "    for i in range(n): \n",
    "        if len(v[i]) != listMax: \n",
    "            tmp = [0] * (listMax - len(v[i])) \n",
    "            v[i] = tmp + v[i] \n",
    "    res = [] \n",
    "    for i in range(listMax): \n",
    "        res += [v[j][i] % 2 for j in range(n)] \n",
    "    return res \n",
    " \n",
    " \n",
    "message = list(map(int, input('Enter message: ').split())) \n",
    "K = int(input('Constraints: ')) \n",
    "n = int(input('Number of output(generator): ')) \n",
    "print('Encoded Message', encode(message, K, n)) \n",
    " \n",
    "# message= 1 0 1 0 1 \n",
    "# K=4 \n",
    "# n=2 \n",
    "# g0= 1 1 1 1 \n",
    "# g1= 1 1 0 1 \n",
    "# Encoded Message: 1 1 1 1 0 1 0 0 0 1 0 0 1 0 1 1"
   ]
  },
  {
   "cell_type": "code",
   "execution_count": null,
   "id": "acfeb578",
   "metadata": {},
   "outputs": [],
   "source": []
  }
 ],
 "metadata": {
  "kernelspec": {
   "display_name": "Python 3 (ipykernel)",
   "language": "python",
   "name": "python3"
  },
  "language_info": {
   "codemirror_mode": {
    "name": "ipython",
    "version": 3
   },
   "file_extension": ".py",
   "mimetype": "text/x-python",
   "name": "python",
   "nbconvert_exporter": "python",
   "pygments_lexer": "ipython3",
   "version": "3.11.5"
  }
 },
 "nbformat": 4,
 "nbformat_minor": 5
}
