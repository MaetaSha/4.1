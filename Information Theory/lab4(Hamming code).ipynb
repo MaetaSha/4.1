{
 "cells": [
  {
   "cell_type": "code",
   "execution_count": 1,
   "id": "cbc5c7ae",
   "metadata": {},
   "outputs": [
    {
     "name": "stdout",
     "output_type": "stream",
     "text": [
      "Data: 1011\n",
      "Encoded Data: 0110011\n",
      "Received Data (with error): 0110111\n",
      "Error detected at position 5. Correcting it.\n",
      "Error detected and corrected\n",
      "Corrected Data: 0110011\n"
     ]
    }
   ],
   "source": [
    "def calculate_parity_bits(data_bits):\n",
    "    # Place data bits in positions 3, 5, 6, and 7\n",
    "    d3, d5, d6, d7 = map(int, data_bits)\n",
    "    \n",
    "    # Calculate parity bits for even parity\n",
    "    # P1 covers positions 1, 3, 5, 7\n",
    "    p1 = (d3 + d5 + d7) % 2\n",
    "    # P2 covers positions 2, 3, 6, 7\n",
    "    p2 = (d3 + d6 + d7) % 2\n",
    "    # P4 covers positions 4, 5, 6, 7\n",
    "    p4 = (d5 + d6 + d7) % 2\n",
    "\n",
    "    # Return the encoded message\n",
    "    hamming_code = f\"{p1}{p2}{d3}{p4}{d5}{d6}{d7}\"\n",
    "    return hamming_code\n",
    "\n",
    "def detect_and_correct_error(received_data):\n",
    "    # Convert the received data to a list of integers for easier manipulation\n",
    "    received_bits = list(map(int, received_data))\n",
    "\n",
    "    # Check parity for P1, P2, and P4\n",
    "    p1_check = (received_bits[0] + received_bits[2] + received_bits[4] + received_bits[6]) % 2\n",
    "    p2_check = (received_bits[1] + received_bits[2] + received_bits[5] + received_bits[6]) % 2\n",
    "    p4_check = (received_bits[3] + received_bits[4] + received_bits[5] + received_bits[6]) % 2\n",
    "\n",
    "    # Calculate the syndrome (error position)\n",
    "    error_position = p1_check * 1 + p2_check * 2 + p4_check * 4\n",
    "\n",
    "    if error_position == 0:\n",
    "        return \"No error detected\", received_data  # No error\n",
    "    else:\n",
    "        # Correct the error at the error_position\n",
    "        print(f\"Error detected at position {error_position}. Correcting it.\")\n",
    "        received_bits[error_position - 1] = 1 - received_bits[error_position - 1]  # Flip the erroneous bit\n",
    "        return \"Error detected and corrected\", received_bits\n",
    "\n",
    "# Example usage\n",
    "data_bits = \"1011\"  # Data bits to encode\n",
    "print(f\"Data: {data_bits}\")\n",
    "\n",
    "# Calculate the encoded message (Hamming code)\n",
    "encoded_data = calculate_parity_bits(data_bits)\n",
    "print(f\"Encoded Data: {encoded_data}\")\n",
    "\n",
    "# Simulate a transmission with an error (let's say bit 6 has an error)\n",
    "received_data_with_error = \"0110111\"  # This is the received data with a single-bit error\n",
    "print(f\"Received Data (with error): {received_data_with_error}\")\n",
    "\n",
    "# Detect and correct errors\n",
    "status, corrected_data = detect_and_correct_error(received_data_with_error)\n",
    "print(status)\n",
    "print(f\"Corrected Data: {''.join(map(str, corrected_data))}\")\n",
    "\n"
   ]
  },
  {
   "cell_type": "code",
   "execution_count": null,
   "id": "25f9b5ec",
   "metadata": {},
   "outputs": [],
   "source": []
  }
 ],
 "metadata": {
  "kernelspec": {
   "display_name": "Python 3 (ipykernel)",
   "language": "python",
   "name": "python3"
  },
  "language_info": {
   "codemirror_mode": {
    "name": "ipython",
    "version": 3
   },
   "file_extension": ".py",
   "mimetype": "text/x-python",
   "name": "python",
   "nbconvert_exporter": "python",
   "pygments_lexer": "ipython3",
   "version": "3.11.5"
  }
 },
 "nbformat": 4,
 "nbformat_minor": 5
}
