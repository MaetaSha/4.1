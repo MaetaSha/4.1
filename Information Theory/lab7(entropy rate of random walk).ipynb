{
 "cells": [
  {
   "cell_type": "code",
   "execution_count": 2,
   "id": "42f7267d",
   "metadata": {},
   "outputs": [
    {
     "name": "stdout",
     "output_type": "stream",
     "text": [
      "Entropy Rate: 1.33\n"
     ]
    }
   ],
   "source": [
    "\n",
    "import math\n",
    "from collections import defaultdict\n",
    "\n",
    "# Initialize the graph\n",
    "g = defaultdict(list)\n",
    "\n",
    "# Example input data\n",
    "xij = [[1, 1, 2], [1, 1], [1, 2, 1], [1, 1]]\n",
    "\n",
    "# Function to build the graph\n",
    "def makeGraph(li):\n",
    "    for node in range(len(li)):\n",
    "        for x in li[node]:\n",
    "            g[node].append(x)\n",
    "\n",
    "# Calculate entropy for a list of probabilities\n",
    "def entropy(li):\n",
    "    H = 0\n",
    "    for x in li:\n",
    "        if x > 0:\n",
    "            H += -(x * math.log2(x))\n",
    "    return H\n",
    "\n",
    "# Build the graph\n",
    "makeGraph(xij)\n",
    "\n",
    "# Calculate wi, the sum of edges connected to each node\n",
    "wi = [sum(g[node]) for node in range(len(g))]\n",
    "\n",
    "# Summation(wi) = 2 * w\n",
    "w = sum(wi) / 2\n",
    "\n",
    "# Stationary distribution ui = (wi) / (2 * w)\n",
    "ui = [weight / (2 * w) for weight in wi]\n",
    "\n",
    "# Calculate entropy H((wi) / 2w)\n",
    "H_wi_div_2w = entropy(ui)\n",
    "\n",
    "# Calculate H(wij / 2w)\n",
    "wij_div_2w_list = []\n",
    "for i in range(len(g)):\n",
    "    wij_div_2w_list += [weight / (2 * w) for weight in g[i]]\n",
    "\n",
    "H_wij_div_2w = entropy(wij_div_2w_list)\n",
    "\n",
    "# Finally, the entropy rate H(x) = H(wij / 2w) - H(wi / 2w)\n",
    "H_x = H_wij_div_2w - H_wi_div_2w\n",
    "print('Entropy Rate: %.2f' % H_x)\n",
    "\n"
   ]
  },
  {
   "cell_type": "code",
   "execution_count": null,
   "id": "7d0afce5",
   "metadata": {},
   "outputs": [],
   "source": []
  }
 ],
 "metadata": {
  "kernelspec": {
   "display_name": "Python 3 (ipykernel)",
   "language": "python",
   "name": "python3"
  },
  "language_info": {
   "codemirror_mode": {
    "name": "ipython",
    "version": 3
   },
   "file_extension": ".py",
   "mimetype": "text/x-python",
   "name": "python",
   "nbconvert_exporter": "python",
   "pygments_lexer": "ipython3",
   "version": "3.11.5"
  }
 },
 "nbformat": 4,
 "nbformat_minor": 5
}
