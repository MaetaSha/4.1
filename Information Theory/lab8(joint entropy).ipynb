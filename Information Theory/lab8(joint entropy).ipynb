{
 "cells": [
  {
   "cell_type": "code",
   "execution_count": 1,
   "id": "4ac21957",
   "metadata": {},
   "outputs": [
    {
     "name": "stdout",
     "output_type": "stream",
     "text": [
      "Conditional Entropy H(x|y):  1.375\n",
      "Conditional Entropy H(y|x):  1.625\n",
      "Joint Entropy H(x,y):  3.375\n",
      "Mutual Information:  0.375\n"
     ]
    }
   ],
   "source": [
    "import math\n",
    "\n",
    "# Given joint probability matrix\n",
    "matrix = [\n",
    "    [1 / 8, 1 / 16, 1 / 32, 1 / 32],\n",
    "    [1 / 16, 1 / 8, 1 / 32, 1 / 32],\n",
    "    [1 / 16, 1 / 16, 1 / 16, 1 / 16],\n",
    "    [1 / 4, 0, 0, 0]\n",
    "]\n",
    "\n",
    "# Marginal distribution of x\n",
    "marginal_x = []\n",
    "for i in range(len(matrix[0])):\n",
    "    marginal_x.append(sum(matrix[j][i] for j in range(len(matrix))))\n",
    "\n",
    "# Marginal distribution of y\n",
    "marginal_y = []\n",
    "for i in range(len(matrix)):\n",
    "    marginal_y.append(sum(matrix[i][j] for j in range(len(matrix[0]))))\n",
    "\n",
    "# Calculate entropy for a given distribution\n",
    "def entropy(marginal_var):\n",
    "    H = 0\n",
    "    for x in marginal_var:\n",
    "        if x > 0:  # Ignore zero probabilities to avoid math errors\n",
    "            H += -(x * math.log2(x))\n",
    "    return H\n",
    "\n",
    "# Calculate H(x) and H(y)\n",
    "H_x = entropy(marginal_x)\n",
    "H_y = entropy(marginal_y)\n",
    "\n",
    "# Calculate conditional entropy H(x|y)\n",
    "H_xy = 0\n",
    "for i in range(len(matrix)):\n",
    "    # Calculate P(x|y)\n",
    "    tmp = [(matrix[i][j] / marginal_y[i]) for j in range(len(matrix[0]))]\n",
    "    H_xy += entropy(tmp) * marginal_y[i]\n",
    "\n",
    "# Calculate conditional entropy H(y|x)\n",
    "H_yx = 0\n",
    "for i in range(len(matrix[0])):\n",
    "    # Calculate P(y|x)\n",
    "    tmp = [(matrix[j][i] / marginal_x[i]) for j in range(len(matrix))]\n",
    "    H_yx += entropy(tmp) * marginal_x[i]\n",
    "\n",
    "# Print results\n",
    "print('Conditional Entropy H(x|y): ', H_xy)\n",
    "print('Conditional Entropy H(y|x): ', H_yx)\n",
    "\n",
    "# Joint entropy H(x,y)\n",
    "H_of_xy = H_x + H_yx\n",
    "print('Joint Entropy H(x,y): ', H_of_xy)\n",
    "\n",
    "# Mutual Information I(x,y)\n",
    "I_of_xy = H_x + H_y - H_of_xy\n",
    "print('Mutual Information: ', I_of_xy)\n",
    "\n"
   ]
  },
  {
   "cell_type": "code",
   "execution_count": null,
   "id": "c341d047",
   "metadata": {},
   "outputs": [],
   "source": []
  }
 ],
 "metadata": {
  "kernelspec": {
   "display_name": "Python 3 (ipykernel)",
   "language": "python",
   "name": "python3"
  },
  "language_info": {
   "codemirror_mode": {
    "name": "ipython",
    "version": 3
   },
   "file_extension": ".py",
   "mimetype": "text/x-python",
   "name": "python",
   "nbconvert_exporter": "python",
   "pygments_lexer": "ipython3",
   "version": "3.11.5"
  }
 },
 "nbformat": 4,
 "nbformat_minor": 5
}
