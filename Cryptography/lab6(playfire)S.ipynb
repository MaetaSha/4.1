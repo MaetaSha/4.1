{
 "cells": [
  {
   "cell_type": "code",
   "execution_count": 10,
   "id": "8d97884c",
   "metadata": {},
   "outputs": [
    {
     "name": "stdout",
     "output_type": "stream",
     "text": [
      "cipher text:  shamxy\n",
      "Decrypted Text: pbnrwb\n",
      "Refined Text: pbnrwb\n"
     ]
    }
   ],
   "source": [
    "import string\n",
    "\n",
    "\n",
    "def playfair_decrypt(ciphertext, key):\n",
    "    alphabet = string.ascii_lowercase.replace(\"j\", \"\")\n",
    "    ciphertext = ciphertext.lower().replace(\" \", \"\")\n",
    "    key = key.lower().replace(\" \", \"\").replace(\"j\", \"i\")\n",
    "\n",
    "    key_square = \"\"\n",
    "    for char in key + alphabet:\n",
    "        if char not in key_square:\n",
    "            key_square += char\n",
    "\n",
    "    # Split ciphertext into digraphs (pairs of two characters)\n",
    "    digraphs = [ciphertext[i : i + 2] for i in range(0, len(ciphertext), 2)]\n",
    "\n",
    "    # Decrypt each digraph\n",
    "    def decrypt_digraph(digraph):\n",
    "        a, b = digraph\n",
    "        row_a, col_a = divmod(key_square.index(a), 5)\n",
    "        row_b, col_b = divmod(key_square.index(b), 5)\n",
    "\n",
    "        if row_a == row_b:  # Same row\n",
    "            col_a = (col_a - 1) % 5\n",
    "            col_b = (col_b - 1) % 5\n",
    "        elif col_a == col_b:  # Same column\n",
    "            row_a = (row_a - 1) % 5\n",
    "            row_b = (row_b - 1) % 5\n",
    "        else:  # Rectangle swap\n",
    "            col_a, col_b = col_b, col_a\n",
    "\n",
    "        return key_square[row_a * 5 + col_a] + key_square[row_b * 5 + col_b]\n",
    "\n",
    "    decrypted_message = \"\".join(decrypt_digraph(digraph) for digraph in digraphs)\n",
    "    return decrypted_message\n",
    "\n",
    "\n",
    "ciphertext = \"\"\n",
    "print(\"cipher text: \",ciphertext)\n",
    "key = \"monarchy\"\n",
    "decrypted_text = playfair_decrypt(ciphertext, key)\n",
    "print(\"Decrypted Text:\", decrypted_text)\n",
    "plain = \"\"\n",
    "for x in decrypted_text:\n",
    "    if x == \"x\":\n",
    "        continue\n",
    "    plain += x\n",
    "print(\"Refined Text:\", plain)\n"
   ]
  },
  {
   "cell_type": "code",
   "execution_count": null,
   "id": "aec63e04",
   "metadata": {},
   "outputs": [],
   "source": []
  }
 ],
 "metadata": {
  "kernelspec": {
   "display_name": "Python 3 (ipykernel)",
   "language": "python",
   "name": "python3"
  },
  "language_info": {
   "codemirror_mode": {
    "name": "ipython",
    "version": 3
   },
   "file_extension": ".py",
   "mimetype": "text/x-python",
   "name": "python",
   "nbconvert_exporter": "python",
   "pygments_lexer": "ipython3",
   "version": "3.11.5"
  }
 },
 "nbformat": 4,
 "nbformat_minor": 5
}
