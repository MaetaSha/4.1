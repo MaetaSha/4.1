{
 "cells": [
  {
   "cell_type": "code",
   "execution_count": 11,
   "id": "35526794",
   "metadata": {},
   "outputs": [
    {
     "name": "stdout",
     "output_type": "stream",
     "text": [
      "plain text:  shama\n",
      "Key:  AK\n",
      "Cipher Text: tgklbv\n"
     ]
    }
   ],
   "source": [
    "import string\n",
    "\n",
    "\n",
    "def playfair_encrypt(message, key):\n",
    "    alphabet = string.ascii_lowercase.replace(\"j\", \"\")\n",
    "    message = message.lower().replace(\" \", \"\").replace(\"j\", \"i\")\n",
    "    key = key.lower().replace(\" \", \"\").replace(\"j\", \"i\")\n",
    "\n",
    "    # Generate key square\n",
    "    key_square = \"\"\n",
    "    for char in key + alphabet:\n",
    "        if char not in key_square:\n",
    "            key_square += char\n",
    "\n",
    "    # Prepare message by handling double letters and padding with 'x' if needed\n",
    "    prepared_message = \"\"\n",
    "    i = 0\n",
    "    while i < len(message) - 1:\n",
    "        if message[i] == message[i + 1]:  # Insert 'x' between duplicate letters\n",
    "            prepared_message += message[i] + \"x\"\n",
    "            i += 1\n",
    "        else:\n",
    "            prepared_message += message[i] + message[i + 1]\n",
    "            i += 2\n",
    "    if i < len(message):\n",
    "        prepared_message += message[i]\n",
    "    if len(prepared_message) % 2 == 1:\n",
    "        prepared_message += \"x\"  # Pad with 'x' if message length is odd\n",
    "\n",
    "    # Split message into digraphs (pairs of two characters)\n",
    "    digraphs = [prepared_message[i : i + 2] for i in range(0, len(prepared_message), 2)]\n",
    "\n",
    "    # Encrypt each digraph\n",
    "    def encrypt_digraph(digraph):\n",
    "        a, b = digraph\n",
    "        row_a, col_a = divmod(key_square.index(a), 5)\n",
    "        row_b, col_b = divmod(key_square.index(b), 5)\n",
    "\n",
    "        if row_a == row_b:  # Same row\n",
    "            col_a = (col_a + 1) % 5\n",
    "            col_b = (col_b + 1) % 5\n",
    "        elif col_a == col_b:  # Same column\n",
    "            row_a = (row_a + 1) % 5\n",
    "            row_b = (row_b + 1) % 5\n",
    "        else:  # Rectangle swap\n",
    "            col_a, col_b = col_b, col_a\n",
    "\n",
    "        return key_square[row_a * 5 + col_a] + key_square[row_b * 5 + col_b]\n",
    "\n",
    "    # Generate encrypted message\n",
    "    encrypted_message = \"\".join(encrypt_digraph(digraph) for digraph in digraphs)\n",
    "    return encrypted_message\n",
    "\n",
    "\n",
    "# Example usage\n",
    "message = \"shama\"\n",
    "key = \"AK\"\n",
    "ciphertext = playfair_encrypt(message, key)\n",
    "print(\"plain text: \",message)\n",
    "print(\"Key: \",key)\n",
    "print(\"Cipher Text:\", ciphertext)\n"
   ]
  },
  {
   "cell_type": "code",
   "execution_count": null,
   "id": "cda825d1",
   "metadata": {},
   "outputs": [],
   "source": []
  }
 ],
 "metadata": {
  "kernelspec": {
   "display_name": "Python 3 (ipykernel)",
   "language": "python",
   "name": "python3"
  },
  "language_info": {
   "codemirror_mode": {
    "name": "ipython",
    "version": 3
   },
   "file_extension": ".py",
   "mimetype": "text/x-python",
   "name": "python",
   "nbconvert_exporter": "python",
   "pygments_lexer": "ipython3",
   "version": "3.11.5"
  }
 },
 "nbformat": 4,
 "nbformat_minor": 5
}
