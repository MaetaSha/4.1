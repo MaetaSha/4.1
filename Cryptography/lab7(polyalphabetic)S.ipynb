{
 "cells": [
  {
   "cell_type": "code",
   "execution_count": 6,
   "id": "158a5163",
   "metadata": {},
   "outputs": [
    {
     "name": "stdout",
     "output_type": "stream",
     "text": [
      "Encrypted Message:  ajeuc\n"
     ]
    }
   ],
   "source": [
    "import string\n",
    "\n",
    "alphabetic = string.ascii_lowercase\n",
    "mp = dict(zip(alphabetic, range(26)))\n",
    "mp2 = dict(zip(range(26), alphabetic))\n",
    "\n",
    "\n",
    "def generateKey(message, key):\n",
    "    key_word = \"\"\n",
    "    for i in range(len(message)):\n",
    "        key_word += key[i % len(key)]\n",
    "    return key_word\n",
    "\n",
    "\n",
    "def encrypt(message, key):\n",
    "    encrypted_message = \"\"\n",
    "    for i in range(len(message)):\n",
    "        encrypted_message += mp2[(mp[message[i]] + mp[key[i]]) % 26]\n",
    "    return encrypted_message\n",
    "\n",
    "\n",
    "# Example usage\n",
    "message = \"shama\"\n",
    "key = generateKey(message, \"ice\")\n",
    "encrypted_message = encrypt(message, key)\n",
    "print(\"Encrypted Message: \", encrypted_message)\n"
   ]
  },
  {
   "cell_type": "code",
   "execution_count": null,
   "id": "bf1de758",
   "metadata": {},
   "outputs": [],
   "source": []
  }
 ],
 "metadata": {
  "kernelspec": {
   "display_name": "Python 3 (ipykernel)",
   "language": "python",
   "name": "python3"
  },
  "language_info": {
   "codemirror_mode": {
    "name": "ipython",
    "version": 3
   },
   "file_extension": ".py",
   "mimetype": "text/x-python",
   "name": "python",
   "nbconvert_exporter": "python",
   "pygments_lexer": "ipython3",
   "version": "3.11.5"
  }
 },
 "nbformat": 4,
 "nbformat_minor": 5
}
