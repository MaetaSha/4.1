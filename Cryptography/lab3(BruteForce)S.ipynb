{
 "cells": [
  {
   "cell_type": "code",
   "execution_count": 1,
   "id": "198fd7ef",
   "metadata": {},
   "outputs": [
    {
     "name": "stdout",
     "output_type": "stream",
     "text": [
      "Encrypted Message: khoor\n",
      "Decrypted Messages\n",
      "For key 0:  khoor\n",
      "For key 1:  jgnnq\n",
      "For key 2:  ifmmp\n",
      "For key 3:  hello\n",
      "For key 4:  gdkkn\n",
      "For key 5:  fcjjm\n",
      "For key 6:  ebiil\n",
      "For key 7:  dahhk\n",
      "For key 8:  czggj\n",
      "For key 9:  byffi\n",
      "For key 10:  axeeh\n",
      "For key 11:  zwddg\n",
      "For key 12:  yvccf\n",
      "For key 13:  xubbe\n",
      "For key 14:  wtaad\n",
      "For key 15:  vszzc\n",
      "For key 16:  uryyb\n",
      "For key 17:  tqxxa\n",
      "For key 18:  spwwz\n",
      "For key 19:  rovvy\n",
      "For key 20:  qnuux\n",
      "For key 21:  pmttw\n",
      "For key 22:  olssv\n",
      "For key 23:  nkrru\n",
      "For key 24:  mjqqt\n",
      "For key 25:  lipps\n"
     ]
    }
   ],
   "source": [
    "import string\n",
    "\n",
    "alphabet = string.ascii_lowercase\n",
    "mp = dict(zip(alphabet, range(26)))\n",
    "mp2 = dict(zip(range(26), alphabet))\n",
    "\n",
    "\n",
    "def caesar_encrypt(message, shift):\n",
    "    encrypted_message = \"\"\n",
    "    for char in message:\n",
    "        encrypted_message += mp2[(mp[char] + shift) % 26]\n",
    "    return encrypted_message\n",
    "\n",
    "\n",
    "def bruteforce_decrypt(encrypted_message):\n",
    "    decrypted_message = []\n",
    "    for i in range(26):\n",
    "        decryp = \"\"\n",
    "        for j in range(len(encrypted_message)):\n",
    "            decryp += mp2[(mp[encrypted_message[j]] - i + 26) % 26]\n",
    "        decrypted_message.append(decryp)\n",
    "    return decrypted_message\n",
    "\n",
    "\n",
    "message = \"hello\"\n",
    "shift = 3\n",
    "encrypted_message = caesar_encrypt(message, shift)\n",
    "decrypted = bruteforce_decrypt(encrypted_message)\n",
    "\n",
    "print(\"Encrypted Message:\", encrypted_message)\n",
    "print(\n",
    "    \"Decrypted Messages\",\n",
    ")\n",
    "ind = 0\n",
    "for msg in decrypted:\n",
    "    print(f\"For key {ind}: \", msg)\n",
    "    ind += 1\n"
   ]
  },
  {
   "cell_type": "code",
   "execution_count": null,
   "id": "65fcdc29",
   "metadata": {},
   "outputs": [],
   "source": []
  }
 ],
 "metadata": {
  "kernelspec": {
   "display_name": "Python 3 (ipykernel)",
   "language": "python",
   "name": "python3"
  },
  "language_info": {
   "codemirror_mode": {
    "name": "ipython",
    "version": 3
   },
   "file_extension": ".py",
   "mimetype": "text/x-python",
   "name": "python",
   "nbconvert_exporter": "python",
   "pygments_lexer": "ipython3",
   "version": "3.11.5"
  }
 },
 "nbformat": 4,
 "nbformat_minor": 5
}
