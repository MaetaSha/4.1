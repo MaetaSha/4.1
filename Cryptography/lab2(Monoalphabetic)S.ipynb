{
 "cells": [
  {
   "cell_type": "code",
   "execution_count": 1,
   "id": "c1175e1c",
   "metadata": {},
   "outputs": [
    {
     "name": "stdout",
     "output_type": "stream",
     "text": [
      "Enter message: shama\n",
      "Encrypted message:  LIQDQ\n",
      "Decrypted message:  SHAMA\n"
     ]
    }
   ],
   "source": [
    "normal_character = \"abcdefghijklmnopqrstuvwxyz\".upper()\n",
    "encoded_character = \"qwertyuiopasdfghjklzxcvbnm\".upper()\n",
    "\n",
    "mp = dict(zip(normal_character, encoded_character))\n",
    "mp2 = dict(zip(encoded_character, normal_character))\n",
    "\n",
    "\n",
    "def mono_alphabetic_encrypt(message):\n",
    "    encrypted_message = \"\"\n",
    "    for char in message:\n",
    "        encrypted_message += mp[char]\n",
    "    return encrypted_message\n",
    "\n",
    "\n",
    "def mono_alphabetic_decrypt(encrypted_message):\n",
    "    decrypted_message = \"\"\n",
    "    for char in encrypted_message:\n",
    "        decrypted_message += mp2[char]\n",
    "    return decrypted_message\n",
    "\n",
    "\n",
    "message = input(\"Enter message: \").upper()\n",
    "encrypted_message = mono_alphabetic_encrypt(message)\n",
    "decrypted_message = mono_alphabetic_decrypt(encrypted_message)\n",
    "print(\"Encrypted message: \", encrypted_message)\n",
    "print(\"Decrypted message: \", decrypted_message)\n"
   ]
  },
  {
   "cell_type": "code",
   "execution_count": null,
   "id": "af3794f4",
   "metadata": {},
   "outputs": [],
   "source": []
  }
 ],
 "metadata": {
  "kernelspec": {
   "display_name": "Python 3 (ipykernel)",
   "language": "python",
   "name": "python3"
  },
  "language_info": {
   "codemirror_mode": {
    "name": "ipython",
    "version": 3
   },
   "file_extension": ".py",
   "mimetype": "text/x-python",
   "name": "python",
   "nbconvert_exporter": "python",
   "pygments_lexer": "ipython3",
   "version": "3.11.5"
  }
 },
 "nbformat": 4,
 "nbformat_minor": 5
}
