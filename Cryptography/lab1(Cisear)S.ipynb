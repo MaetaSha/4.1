{
 "cells": [
  {
   "cell_type": "code",
   "execution_count": 1,
   "id": "5e07e19d",
   "metadata": {},
   "outputs": [
    {
     "name": "stdout",
     "output_type": "stream",
     "text": [
      "Enter Message to encrypt: shama\n",
      "Enter Shift To Encrypt: 3\n",
      "Encrypted Message: VKDPD\n",
      "Decrypted Message: SHAMA\n"
     ]
    }
   ],
   "source": [
    "import string\n",
    "\n",
    "alphabet = string.ascii_uppercase\n",
    "mp = dict(zip(alphabet, range(26)))\n",
    "mp2 = dict(zip(range(26), alphabet))\n",
    "\n",
    "\n",
    "def caesar_encrypt(message, shift):\n",
    "    encrypted_message = \"\"\n",
    "    x = \" \"\n",
    "    for char in message:\n",
    "        if char == \" \":\n",
    "            encrypted_message += x\n",
    "            continue\n",
    "\n",
    "        encrypted_message += mp2[(mp[char] + shift) % 26]\n",
    "    return encrypted_message\n",
    "\n",
    "\n",
    "def caesar_decrypt(caesar_message, shift):\n",
    "    decrypted_message = \"\"\n",
    "    x = \" \"\n",
    "    for char in caesar_message:\n",
    "        if char == \" \":\n",
    "            decrypted_message += x\n",
    "            continue\n",
    "\n",
    "        decrypted_message += mp2[(mp[char] - shift + 26) % 26]\n",
    "    return decrypted_message\n",
    "\n",
    "\n",
    "message = input(\"Enter Message to encrypt: \").upper()\n",
    "shift = int(input(\"Enter Shift To Encrypt: \"))\n",
    "encrypted_message = caesar_encrypt(message, shift)\n",
    "print(\"Encrypted Message:\", encrypted_message)\n",
    "print(\"Decrypted Message:\", caesar_decrypt(encrypted_message, shift))\n"
   ]
  },
  {
   "cell_type": "code",
   "execution_count": null,
   "id": "db3701ef",
   "metadata": {},
   "outputs": [],
   "source": []
  }
 ],
 "metadata": {
  "kernelspec": {
   "display_name": "Python 3 (ipykernel)",
   "language": "python",
   "name": "python3"
  },
  "language_info": {
   "codemirror_mode": {
    "name": "ipython",
    "version": 3
   },
   "file_extension": ".py",
   "mimetype": "text/x-python",
   "name": "python",
   "nbconvert_exporter": "python",
   "pygments_lexer": "ipython3",
   "version": "3.11.5"
  }
 },
 "nbformat": 4,
 "nbformat_minor": 5
}
