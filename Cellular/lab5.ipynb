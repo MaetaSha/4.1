{
 "cells": [
  {
   "cell_type": "code",
   "execution_count": 1,
   "id": "5912c30c",
   "metadata": {},
   "outputs": [
    {
     "name": "stdout",
     "output_type": "stream",
     "text": [
      "(a) Number of cells: 31\n",
      "(b) Number of channels per cell: 95\n",
      "(c) Traffic intensity per cell: 84\n",
      "(d) Maximum carried traffic: 2604\n",
      "(e) Total number of users: 86800.0\n",
      "(f) Number of mobiles per channel: 130\n",
      "(g) Theoretical maximum number of users that could be served: 2945\n"
     ]
    }
   ],
   "source": [
    "import math\n",
    "\n",
    "# Constants\n",
    "area = 1300                    # Total area\n",
    "radius = 4                     # Radius of each cell\n",
    "allocated_spectrum = 40000     # Total allocated spectrum in Hz\n",
    "channel_width = 60             # Width of each channel in Hz\n",
    "frequency_reuse_factor = 7     # Frequency reuse factor\n",
    "traffic_intensity_per_cell = 84  # Traffic intensity per cell\n",
    "traffic_per_user = 0.03         # Traffic per user in Erlangs\n",
    "\n",
    "# (a) Calculate number of cells that can cover the area\n",
    "each_cell_covers = math.floor(2.5981 * radius**2)\n",
    "number_of_cells = math.floor(area / each_cell_covers)\n",
    "print(\"(a) Number of cells:\", number_of_cells)\n",
    "\n",
    "# (b) Calculate number of channels per cell\n",
    "number_of_channel_per_cell = math.floor(allocated_spectrum / (channel_width * frequency_reuse_factor))\n",
    "print(\"(b) Number of channels per cell:\", number_of_channel_per_cell)\n",
    "\n",
    "# (c) Display traffic intensity per cell\n",
    "print(\"(c) Traffic intensity per cell:\", traffic_intensity_per_cell)\n",
    "\n",
    "# (d) Calculate maximum carried traffic\n",
    "maximum_carried_traffic = number_of_cells * traffic_intensity_per_cell\n",
    "print(\"(d) Maximum carried traffic:\", maximum_carried_traffic)\n",
    "\n",
    "# (e) Calculate total number of users\n",
    "total_number_of_user = maximum_carried_traffic / traffic_per_user\n",
    "print(\"(e) Total number of users:\", total_number_of_user)\n",
    "\n",
    "# (f) Calculate number of mobiles per channel\n",
    "number_of_channels = number_of_channel_per_cell * frequency_reuse_factor\n",
    "number_of_mobile_per_channel = math.floor(total_number_of_user / number_of_channels)\n",
    "print(\"(f) Number of mobiles per channel:\", number_of_mobile_per_channel)\n",
    "\n",
    "# (g) Theoretical maximum number of users that could be served\n",
    "theoretical_maximum_number_of_users = number_of_cells * number_of_channel_per_cell\n",
    "print(\"(g) Theoretical maximum number of users that could be served:\", theoretical_maximum_number_of_users)\n"
   ]
  },
  {
   "cell_type": "code",
   "execution_count": null,
   "id": "8ff8a0c4",
   "metadata": {},
   "outputs": [],
   "source": []
  }
 ],
 "metadata": {
  "kernelspec": {
   "display_name": "Python 3 (ipykernel)",
   "language": "python",
   "name": "python3"
  },
  "language_info": {
   "codemirror_mode": {
    "name": "ipython",
    "version": 3
   },
   "file_extension": ".py",
   "mimetype": "text/x-python",
   "name": "python",
   "nbconvert_exporter": "python",
   "pygments_lexer": "ipython3",
   "version": "3.11.5"
  }
 },
 "nbformat": 4,
 "nbformat_minor": 5
}
