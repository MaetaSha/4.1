{
 "cells": [
  {
   "cell_type": "code",
   "execution_count": 1,
   "id": "bf54f274",
   "metadata": {},
   "outputs": [
    {
     "name": "stdout",
     "output_type": "stream",
     "text": [
      "The path loss in high-rise urban areas, Lp = 68.91 dB\n"
     ]
    }
   ],
   "source": [
    "import math\n",
    "\n",
    "# Constants\n",
    "fc = 1.8  # Frequency in GHz\n",
    "hb = 20   # Effective transmitter (base station) antenna height in meters\n",
    "\n",
    "# T-R separation distance in kilometers\n",
    "d = (math.sqrt(20**2 + 30**2)) / 1000  # Convert to kilometers\n",
    "\n",
    "# Path Loss in high-rise urban areas\n",
    "Lp = 135.41 + (12.49 * math.log10(fc)) - (4.99 * math.log10(hb)) + \\\n",
    "     ((46.84 - 2.34 * math.log10(hb)) * math.log10(d))\n",
    "\n",
    "print(f'The path loss in high-rise urban areas, Lp = {Lp:.2f} dB')\n"
   ]
  },
  {
   "cell_type": "code",
   "execution_count": null,
   "id": "38e59243",
   "metadata": {},
   "outputs": [],
   "source": []
  }
 ],
 "metadata": {
  "kernelspec": {
   "display_name": "Python 3 (ipykernel)",
   "language": "python",
   "name": "python3"
  },
  "language_info": {
   "codemirror_mode": {
    "name": "ipython",
    "version": 3
   },
   "file_extension": ".py",
   "mimetype": "text/x-python",
   "name": "python",
   "nbconvert_exporter": "python",
   "pygments_lexer": "ipython3",
   "version": "3.11.5"
  }
 },
 "nbformat": 4,
 "nbformat_minor": 5
}
