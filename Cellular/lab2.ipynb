{
 "cells": [
  {
   "cell_type": "code",
   "execution_count": 1,
   "id": "e21ec55c",
   "metadata": {},
   "outputs": [
    {
     "name": "stdout",
     "output_type": "stream",
     "text": [
      "n: 4\n",
      "Frequency reuse factor: 4.58257569495584\n",
      "Signal to interference ratio: 18.66287339084195\n",
      "n: 3\n",
      "Frequency reuse factor: 4.58257569495584\n",
      "Signal to interference ratio: 12.051776917172353\n",
      "n: 3\n",
      "Frequency reuse factor: 6.0\n",
      "Signal to interference ratio: 15.563025007672874\n"
     ]
    }
   ],
   "source": [
    "import numpy as np\n",
    "\n",
    "R_SI = 15\n",
    "io = 6\n",
    "n = [4, 3]\n",
    "\n",
    "for a in range(2):\n",
    "    N = 7\n",
    "    Q = np.sqrt(3 * N)\n",
    "    print('n:', n[a])\n",
    "    print('Frequency reuse factor:', Q)\n",
    "    SI = 10 * (np.log10((1 / io) * (Q ** n[a])))\n",
    "    print('Signal to interference ratio:', SI)\n",
    "\n",
    "    if SI < R_SI:\n",
    "        i, j = 2, 2\n",
    "        N = (i ** 2) + (i * j) + (j ** 2)\n",
    "        Q = np.sqrt(3 * N)\n",
    "        print('n:', n[a])\n",
    "        print('Frequency reuse factor:', Q)\n",
    "        SI1 = 10 * (np.log10((1 / io) * (Q ** n[a])))\n",
    "        print('Signal to interference ratio:', SI1)\n"
   ]
  },
  {
   "cell_type": "code",
   "execution_count": null,
   "id": "dbb0ec4a",
   "metadata": {},
   "outputs": [],
   "source": []
  }
 ],
 "metadata": {
  "kernelspec": {
   "display_name": "Python 3 (ipykernel)",
   "language": "python",
   "name": "python3"
  },
  "language_info": {
   "codemirror_mode": {
    "name": "ipython",
    "version": 3
   },
   "file_extension": ".py",
   "mimetype": "text/x-python",
   "name": "python",
   "nbconvert_exporter": "python",
   "pygments_lexer": "ipython3",
   "version": "3.11.5"
  }
 },
 "nbformat": 4,
 "nbformat_minor": 5
}
