{
 "cells": [
  {
   "cell_type": "code",
   "execution_count": 2,
   "id": "57281d94",
   "metadata": {},
   "outputs": [
    {
     "name": "stdout",
     "output_type": "stream",
     "text": [
      "(a) Transmitter power, Pt in dBm: 47 dBm\n",
      "\n",
      "(b) Transmitter power, Pt in dBW: 17 dBW\n",
      "\n",
      "(c) Received power, Pr in dBm: -24.54 dBm\n",
      "\n",
      "(d) Received power, Pr at 10 km in dBm: 55.46 dBm\n",
      "\n"
     ]
    }
   ],
   "source": [
    "import math\n",
    "\n",
    "# Constants\n",
    "pt = 50                    # Transmitted power in Watts\n",
    "fc = 900                   # Carrier frequency in MHz\n",
    "gt = 1                     # Transmitter antenna gain\n",
    "gr = 1                     # Receiver antenna gain\n",
    "d = 100                    # Free space distance in meters\n",
    "L = 1                      # System loss\n",
    "c = 3 * 10**8             # Speed of light in m/s\n",
    "\n",
    "# Wavelength calculation\n",
    "lambda_ = c / (fc * 10**6)  # lambda = c/f = 1/3\n",
    "\n",
    "# Question (a) - Transmitter power in dBm\n",
    "tr_dBm = math.ceil(10 * math.log10(pt * 1000))\n",
    "print(f'(a) Transmitter power, Pt in dBm: {tr_dBm} dBm\\n')\n",
    "\n",
    "# Question (b) - Transmitter power in dBW\n",
    "tr_dBW = math.ceil(10 * math.log10(pt))\n",
    "print(f'(b) Transmitter power, Pt in dBW: {tr_dBW} dBW\\n')\n",
    "\n",
    "# Question (c) - Received power in dBm\n",
    "c_received = (pt * gt * gr * (lambda_ ** 2) / ((4 * math.pi) ** 2 * d ** 2 * L)) * 1000\n",
    "Pr = 10 * math.log10(c_received)\n",
    "print(f'(c) Received power, Pr in dBm: {Pr:.2f} dBm\\n')\n",
    "\n",
    "# Question (d) - Received power at 10 km in dBm\n",
    "d_10km = Pr + (20 * math.log10(10 * 1000))  # Convert 10 km to meters\n",
    "print(f'(d) Received power, Pr at 10 km in dBm: {d_10km:.2f} dBm\\n')\n"
   ]
  },
  {
   "cell_type": "code",
   "execution_count": null,
   "id": "56681e92",
   "metadata": {},
   "outputs": [],
   "source": []
  }
 ],
 "metadata": {
  "kernelspec": {
   "display_name": "Python 3 (ipykernel)",
   "language": "python",
   "name": "python3"
  },
  "language_info": {
   "codemirror_mode": {
    "name": "ipython",
    "version": 3
   },
   "file_extension": ".py",
   "mimetype": "text/x-python",
   "name": "python",
   "nbconvert_exporter": "python",
   "pygments_lexer": "ipython3",
   "version": "3.11.5"
  }
 },
 "nbformat": 4,
 "nbformat_minor": 5
}
