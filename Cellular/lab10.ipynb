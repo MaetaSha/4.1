{
 "cells": [
  {
   "cell_type": "code",
   "execution_count": 1,
   "id": "2fbfa3e8",
   "metadata": {},
   "outputs": [
    {
     "name": "stdout",
     "output_type": "stream",
     "text": [
      "(a) Number of users per square km: 62 users/sq km\n",
      "\n",
      "(b) The probability that a delayed call will have to wait: 56.29%\n",
      "\n",
      "(c) The probability that a call will be delayed: 2.81%\n",
      "\n"
     ]
    }
   ],
   "source": [
    "import math\n",
    "\n",
    "# Constants\n",
    "R = 1.387  # Cell Radius\n",
    "n = 4  # Number of cells\n",
    "N = 60  # Total number of channels\n",
    "area = round(2.5981 * R**2)  # Area covered per cell\n",
    "C = N / 4  # Number of channels per cell\n",
    "A = 9  # Traffic intensity (from Erlang C chart)\n",
    "Au = 0.029  # Traffic per user\n",
    "\n",
    "# Question (a)\n",
    "U = math.floor(A / Au)  # Number of users\n",
    "U_per = round(U / area)  # Number of users per square km\n",
    "print(f\"(a) Number of users per square km: {U_per} users/sq km\\n\")\n",
    "\n",
    "# Question (b)\n",
    "lamda = 1  # Lambda = 1 hour\n",
    "H = (Au / lamda) * 3600  # Holding Time (seconds)\n",
    "Prb = math.exp((-(C - A) * 10) / H)  # Probability for delayed call with t = 10s, C = 15, A = 9, H calculated\n",
    "print(f\"(b) The probability that a delayed call will have to wait: {Prb * 100:.2f}%\\n\")\n",
    "\n",
    "# Question (c)\n",
    "Prc = 0.05 * Prb * 100  # 5% probability of delayed call\n",
    "print(f\"(c) The probability that a call will be delayed: {Prc:.2f}%\\n\")\n"
   ]
  },
  {
   "cell_type": "code",
   "execution_count": null,
   "id": "78130ed9",
   "metadata": {},
   "outputs": [],
   "source": []
  }
 ],
 "metadata": {
  "kernelspec": {
   "display_name": "Python 3 (ipykernel)",
   "language": "python",
   "name": "python3"
  },
  "language_info": {
   "codemirror_mode": {
    "name": "ipython",
    "version": 3
   },
   "file_extension": ".py",
   "mimetype": "text/x-python",
   "name": "python",
   "nbconvert_exporter": "python",
   "pygments_lexer": "ipython3",
   "version": "3.11.5"
  }
 },
 "nbformat": 4,
 "nbformat_minor": 5
}
