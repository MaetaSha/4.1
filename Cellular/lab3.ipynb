{
 "cells": [
  {
   "cell_type": "code",
   "execution_count": 4,
   "id": "8bcf0f5c",
   "metadata": {},
   "outputs": [
    {
     "name": "stdout",
     "output_type": "stream",
     "text": [
      "Blocking probability: 0.005\n",
      "Traffic intensity per user: 0.1\n",
      "Traffic intensity: [5.00e-03 1.13e+00 3.96e+00 1.11e+01 8.09e+01]\n",
      "Channels: [  1   5  10  20 100]\n",
      "Number of users: [  1  11  39 110 809]\n"
     ]
    }
   ],
   "source": [
    "import numpy as np\n",
    "\n",
    "# Constants\n",
    "Gos = 0.5 / 100  # Blocking probability\n",
    "Au = 0.1         # Traffic intensity per user\n",
    "A = np.array([0.005, 1.13, 3.96, 11.1, 80.9])  # Traffic intensity per configuration\n",
    "c = np.array([1, 5, 10, 20, 100])              # Number of channels per configuration\n",
    "\n",
    "# Display the values\n",
    "print(\"Blocking probability:\", Gos)\n",
    "print(\"Traffic intensity per user:\", Au)\n",
    "print(\"Traffic intensity:\", A)\n",
    "print(\"Channels:\", c)\n",
    "\n",
    "# Calculate the number of users\n",
    "U = A / Au\n",
    "# Use floor rounding, except when the value is less than 1, to ensure at least 1 user\n",
    "u = np.where(U < 1, 1, np.floor(U))\n",
    "\n",
    "print(\"Number of users:\", u.astype(int))\n"
   ]
  },
  {
   "cell_type": "code",
   "execution_count": null,
   "id": "a2983ba9",
   "metadata": {},
   "outputs": [],
   "source": []
  },
  {
   "cell_type": "code",
   "execution_count": null,
   "id": "5722b9da",
   "metadata": {},
   "outputs": [],
   "source": []
  }
 ],
 "metadata": {
  "kernelspec": {
   "display_name": "Python 3 (ipykernel)",
   "language": "python",
   "name": "python3"
  },
  "language_info": {
   "codemirror_mode": {
    "name": "ipython",
    "version": 3
   },
   "file_extension": ".py",
   "mimetype": "text/x-python",
   "name": "python",
   "nbconvert_exporter": "python",
   "pygments_lexer": "ipython3",
   "version": "3.11.5"
  }
 },
 "nbformat": 4,
 "nbformat_minor": 5
}
