{
 "cells": [
  {
   "cell_type": "code",
   "execution_count": 1,
   "id": "420c82dc",
   "metadata": {},
   "outputs": [
    {
     "name": "stdout",
     "output_type": "stream",
     "text": [
      "For System A\n",
      "Number of users in System A: 120.0\n",
      "Total number of subscribers in System A: 47280.0\n",
      "Percentage market penetration for System A: 2.3640000000000003\n",
      "\n",
      "For System B\n",
      "Number of users in System B: 450.0\n",
      "Total number of subscribers in System B: 44100.0\n",
      "Percentage market penetration for System B: 2.205\n",
      "\n",
      "For System C\n",
      "Number of users in System C: 880.0\n",
      "Total number of subscribers in System C: 43120.0\n",
      "Percentage market penetration for System C: 2.156\n",
      "\n",
      "Total number of subscribers across all systems: 134500.0\n",
      "Market penetration for all three systems: 6.7250000000000005\n"
     ]
    }
   ],
   "source": [
    "# Constants\n",
    "blocking_p = 2 / 100  # Blocking probability\n",
    "lamda = 2             # Arrival rate\n",
    "H = 3 / 60            # Average call holding time in hours\n",
    "Au = lamda * H        # Traffic intensity per user\n",
    "\n",
    "# System A\n",
    "print(\"For System A\")\n",
    "channel_a = 19\n",
    "cell_A = 394\n",
    "A = 12               # Total traffic in Erlangs\n",
    "# Calculate number of users in System A\n",
    "Ua = A / Au\n",
    "print(\"Number of users in System A:\", Ua)\n",
    "# Calculate total number of subscribers in System A\n",
    "subscriber_A = Ua * cell_A\n",
    "print(\"Total number of subscribers in System A:\", subscriber_A)\n",
    "# Market penetration for System A\n",
    "percentage_market_penetration_for_A = (subscriber_A / 2000000) * 100\n",
    "print(\"Percentage market penetration for System A:\", percentage_market_penetration_for_A)\n",
    "\n",
    "# System B\n",
    "print(\"\\nFor System B\")\n",
    "channel_b = 57\n",
    "cell_B = 98\n",
    "Ab = 45              # Total traffic in Erlangs\n",
    "# Calculate number of users in System B\n",
    "Ub = Ab / Au\n",
    "print(\"Number of users in System B:\", Ub)\n",
    "# Calculate total number of subscribers in System B\n",
    "subscriber_B = Ub * cell_B\n",
    "print(\"Total number of subscribers in System B:\", subscriber_B)\n",
    "# Market penetration for System B\n",
    "percentage_market_penetration_for_B = (subscriber_B / 2000000) * 100\n",
    "print(\"Percentage market penetration for System B:\", percentage_market_penetration_for_B)\n",
    "\n",
    "# System C\n",
    "print(\"\\nFor System C\")\n",
    "channel_c = 100\n",
    "cell_C = 49\n",
    "Ac = 88              # Total traffic in Erlangs\n",
    "# Calculate number of users in System C\n",
    "Uc = Ac / Au\n",
    "print(\"Number of users in System C:\", Uc)\n",
    "# Calculate total number of subscribers in System C\n",
    "subscriber_C = Uc * cell_C\n",
    "print(\"Total number of subscribers in System C:\", subscriber_C)\n",
    "# Market penetration for System C\n",
    "percentage_market_penetration_for_C = (subscriber_C / 2000000) * 100\n",
    "print(\"Percentage market penetration for System C:\", percentage_market_penetration_for_C)\n",
    "\n",
    "# Total subscribers and market penetration across all systems\n",
    "Total_number_of_subscriber = subscriber_A + subscriber_B + subscriber_C\n",
    "Market_penetration_for_three_system = (Total_number_of_subscriber / 2000000) * 100\n",
    "\n",
    "print(\"\\nTotal number of subscribers across all systems:\", Total_number_of_subscriber)\n",
    "print(\"Market penetration for all three systems:\", Market_penetration_for_three_system)\n"
   ]
  },
  {
   "cell_type": "code",
   "execution_count": null,
   "id": "228c8ae3",
   "metadata": {},
   "outputs": [],
   "source": []
  }
 ],
 "metadata": {
  "kernelspec": {
   "display_name": "Python 3 (ipykernel)",
   "language": "python",
   "name": "python3"
  },
  "language_info": {
   "codemirror_mode": {
    "name": "ipython",
    "version": 3
   },
   "file_extension": ".py",
   "mimetype": "text/x-python",
   "name": "python",
   "nbconvert_exporter": "python",
   "pygments_lexer": "ipython3",
   "version": "3.11.5"
  }
 },
 "nbformat": 4,
 "nbformat_minor": 5
}
