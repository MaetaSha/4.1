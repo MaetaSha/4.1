{
 "cells": [
  {
   "cell_type": "code",
   "execution_count": 1,
   "id": "9a0d8f11",
   "metadata": {},
   "outputs": [
    {
     "name": "stdout",
     "output_type": "stream",
     "text": [
      "Channel Bandwidth..\n",
      "Duplux Channel Bandwidth: 50\n",
      "Total available channel:\n",
      "660.0\n",
      "Total control channel:\n",
      "20.0\n",
      "Channel per cell for N = 4:\n",
      "165\n",
      "Control channel: 5, Voice channel: 160\n",
      "Channel per cell for N = 7:\n",
      "94\n",
      "Control channel: 3, Voice channel: 91\n",
      "Channel per cell for N = 12:\n",
      "55\n",
      "Control channel: 2, Voice channel: 53\n"
     ]
    }
   ],
   "source": [
    "import math\n",
    "\n",
    "bw = 33000\n",
    "schannel_bw = 25\n",
    "\n",
    "print('Channel Bandwidth..')\n",
    "dup_ch_bw = 2 * schannel_bw\n",
    "t_ch = bw / dup_ch_bw\n",
    "print(f'Duplux Channel Bandwidth: {dup_ch_bw}')\n",
    "print('Total available channel:')\n",
    "print(t_ch)\n",
    "\n",
    "cc_bw = 1000\n",
    "t_cc = cc_bw / dup_ch_bw\n",
    "print('Total control channel:')\n",
    "print(t_cc)\n",
    "\n",
    "N = [4, 7, 12]\n",
    "\n",
    "for i in range(3):\n",
    "    ch = t_ch / N[i]\n",
    "    ch_per_cell = round(ch)\n",
    "    print(f'Channel per cell for N = {N[i]}:')\n",
    "    print(ch_per_cell)\n",
    "    \n",
    "    c = t_cc / N[i]\n",
    "    cc = round(c)\n",
    "    \n",
    "    v = (t_ch - t_cc) / N[i]\n",
    "    vc = round(v)\n",
    "    \n",
    "    print(f'Control channel: {cc}, Voice channel: {vc}')\n"
   ]
  },
  {
   "cell_type": "code",
   "execution_count": null,
   "id": "7efbe004",
   "metadata": {},
   "outputs": [],
   "source": []
  }
 ],
 "metadata": {
  "kernelspec": {
   "display_name": "Python 3 (ipykernel)",
   "language": "python",
   "name": "python3"
  },
  "language_info": {
   "codemirror_mode": {
    "name": "ipython",
    "version": 3
   },
   "file_extension": ".py",
   "mimetype": "text/x-python",
   "name": "python",
   "nbconvert_exporter": "python",
   "pygments_lexer": "ipython3",
   "version": "3.11.5"
  }
 },
 "nbformat": 4,
 "nbformat_minor": 5
}
